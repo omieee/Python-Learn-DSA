{
 "cells": [
  {
   "cell_type": "markdown",
   "id": "a94fcfb0",
   "metadata": {},
   "source": [
    "### QUESTION:\n",
    "#### We have N Number of cards and we have to find a card given as 'X' with the least number of guesses. Tell the position of card"
   ]
  },
  {
   "cell_type": "markdown",
   "id": "fc7ae6e8",
   "metadata": {},
   "source": [
    "#### Brute Force Approch"
   ]
  },
  {
   "cell_type": "code",
   "execution_count": 4,
   "id": "967b00c0",
   "metadata": {},
   "outputs": [
    {
     "name": "stdout",
     "output_type": "stream",
     "text": [
      "Card found at position: 8\n",
      "Card found at position: 1\n",
      "Card found at position: None\n"
     ]
    }
   ],
   "source": [
    "def find_a_card(deck_of_card, card):\n",
    "    for index, crd in enumerate(deck_of_card):\n",
    "        if crd == card:\n",
    "            return index + 1\n",
    "    return None\n",
    "\n",
    "print(\"Card found at position:\", find_a_card([1,3,7,9,10,2,6,4,5,8], 4))\n",
    "print(\"Card found at position:\", find_a_card([1,2], 1))\n",
    "print(\"Card found at position:\", find_a_card([1,2,3], 6))"
   ]
  },
  {
   "cell_type": "code",
   "execution_count": null,
   "id": "c44bffc2",
   "metadata": {},
   "outputs": [],
   "source": []
  }
 ],
 "metadata": {
  "kernelspec": {
   "display_name": "Python 3 (ipykernel)",
   "language": "python",
   "name": "python3"
  },
  "language_info": {
   "codemirror_mode": {
    "name": "ipython",
    "version": 3
   },
   "file_extension": ".py",
   "mimetype": "text/x-python",
   "name": "python",
   "nbconvert_exporter": "python",
   "pygments_lexer": "ipython3",
   "version": "3.9.12"
  }
 },
 "nbformat": 4,
 "nbformat_minor": 5
}
